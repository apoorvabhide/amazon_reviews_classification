{
 "cells": [
  {
   "cell_type": "code",
   "execution_count": 3,
   "metadata": {},
   "outputs": [],
   "source": [
    "import numpy as np\n",
    "import pandas as pd\n",
    "import nltk\n",
    "import seaborn as sns\n",
    "import re\n",
    "import string\n",
    "import matplotlib.pyplot as plt\n",
    "from sklearn.feature_extraction.text import TfidfVectorizer\n",
    "from sklearn.feature_extraction.text import CountVectorizer"
   ]
  },
  {
   "cell_type": "code",
   "execution_count": 5,
   "metadata": {},
   "outputs": [
    {
     "name": "stdout",
     "output_type": "stream",
     "text": [
      "<class 'pandas.core.frame.DataFrame'>\n",
      "RangeIndex: 3150 entries, 0 to 3149\n",
      "Data columns (total 5 columns):\n",
      "rating              3150 non-null int64\n",
      "date                3150 non-null object\n",
      "variation           3150 non-null object\n",
      "verified_reviews    3150 non-null object\n",
      "feedback            3150 non-null int64\n",
      "dtypes: int64(2), object(3)\n",
      "memory usage: 123.1+ KB\n",
      "   rating       date         variation  \\\n",
      "0       5  31-Jul-18  Charcoal Fabric    \n",
      "1       5  31-Jul-18  Charcoal Fabric    \n",
      "2       4  31-Jul-18    Walnut Finish    \n",
      "3       5  31-Jul-18  Charcoal Fabric    \n",
      "4       5  31-Jul-18  Charcoal Fabric    \n",
      "\n",
      "                                    verified_reviews  feedback  \n",
      "0                                      Love my Echo!         1  \n",
      "1                                          Loved it!         1  \n",
      "2  Sometimes while playing a game, you can answer...         1  \n",
      "3  I have had a lot of fun with this thing. My 4 ...         1  \n",
      "4                                              Music         1  \n"
     ]
    }
   ],
   "source": [
    "reviews = pd.read_csv('/home/ab/Downloads/Datasets for analysis/Amazon reviews/amazon_alexa.tsv', sep = '\\t', quotechar = '\"')\n",
    "reviews.info()\n",
    "print(reviews.head())"
   ]
  },
  {
   "cell_type": "code",
   "execution_count": 6,
   "metadata": {},
   "outputs": [
    {
     "data": {
      "image/png": "[encoded data removed]",
      "text/plain": [
       "<Figure size 432x288 with 1 Axes>"
      ]
     },
     "metadata": {},
     "output_type": "display_data"
    }
   ],
   "source": [
    "#Let's look at the distribution of reviews\n",
    "n, bins, patches = plt.hist(x=reviews.rating, bins=[1,2,3,4,5], color='#0504aa',\n",
    "                            alpha=0.7, rwidth=0.85)\n",
    "plt.grid(axis='y', alpha=0.75)\n",
    "plt.xlabel('Rating')\n",
    "plt.ylabel('Frequency')\n",
    "plt.title('Ratings and their frequency')\n",
    "#plt.text(23, 45, r'$\\mu=15, b=3$')\n",
    "maxfreq = n.max()"
   ]
  },
  {
   "cell_type": "code",
   "execution_count": 8,
   "metadata": {},
   "outputs": [
    {
     "name": "stderr",
     "output_type": "stream",
     "text": [
      "/home/ab/.local/lib/python3.5/site-packages/ipykernel_launcher.py:4: SettingWithCopyWarning: \n",
      "A value is trying to be set on a copy of a slice from a DataFrame\n",
      "\n",
      "See the caveats in the documentation: http://pandas.pydata.org/pandas-docs/stable/indexing.html#indexing-view-versus-copy\n",
      "  after removing the cwd from sys.path.\n"
     ]
    }
   ],
   "source": [
    "reviews[\"review_len\"] = np.nan\n",
    "reviews.head()\n",
    "for i in range(len(reviews.verified_reviews)):\n",
    "    reviews.review_len[i] = len(reviews.verified_reviews[i])"
   ]
  },
  {
   "cell_type": "code",
   "execution_count": 9,
   "metadata": {},
   "outputs": [
    {
     "name": "stdout",
     "output_type": "stream",
     "text": [
      "0     13.0\n",
      "1      9.0\n",
      "2    195.0\n",
      "3    172.0\n",
      "4      5.0\n",
      "5    172.0\n",
      "6    365.0\n",
      "7    221.0\n",
      "8     11.0\n",
      "9    114.0\n",
      "Name: review_len, dtype: float64\n",
      "<class 'pandas.core.frame.DataFrame'>\n",
      "RangeIndex: 3150 entries, 0 to 3149\n",
      "Data columns (total 6 columns):\n",
      "rating              3150 non-null int64\n",
      "date                3150 non-null object\n",
      "variation           3150 non-null object\n",
      "verified_reviews    3150 non-null object\n",
      "feedback            3150 non-null int64\n",
      "review_len          3150 non-null float64\n",
      "dtypes: float64(1), int64(2), object(3)\n",
      "memory usage: 147.7+ KB\n"
     ]
    }
   ],
   "source": [
    "#Test out that it's working\n",
    "print(reviews.review_len[0:10])\n",
    "isinstance(reviews.review_len, int)\n",
    "#reviews.review_len = int(reviews.review_len)\n",
    "reviews.info()"
   ]
  },
  {
   "cell_type": "code",
   "execution_count": 8,
   "metadata": {},
   "outputs": [],
   "source": [
    "reviews.columns = reviews.columns.to_series().apply(lambda x: x.strip())"
   ]
  },
  {
   "cell_type": "code",
   "execution_count": 7,
   "metadata": {},
   "outputs": [
    {
     "name": "stdout",
     "output_type": "stream",
     "text": [
      "   rating       date         variation  \\\n",
      "0       5  31-Jul-18  Charcoal Fabric    \n",
      "1       5  31-Jul-18  Charcoal Fabric    \n",
      "2       4  31-Jul-18    Walnut Finish    \n",
      "3       5  31-Jul-18  Charcoal Fabric    \n",
      "4       5  31-Jul-18  Charcoal Fabric    \n",
      "\n",
      "                                    verified_reviews  feedback  \n",
      "0                                      Love my Echo!         1  \n",
      "1                                          Loved it!         1  \n",
      "2  Sometimes while playing a game, you can answer...         1  \n",
      "3  I have had a lot of fun with this thing. My 4 ...         1  \n",
      "4                                              Music         1  \n"
     ]
    }
   ],
   "source": [
    "polar_reviews = reviews.query(\"rating < 3 or rating > 3\")\n",
    "print(polar_reviews.head())"
   ]
  },
  {
   "cell_type": "code",
   "execution_count": 8,
   "metadata": {},
   "outputs": [
    {
     "name": "stdout",
     "output_type": "stream",
     "text": [
      "   rating       date         variation  \\\n",
      "0       5  31-Jul-18  Charcoal Fabric    \n",
      "1       5  31-Jul-18  Charcoal Fabric    \n",
      "2       4  31-Jul-18    Walnut Finish    \n",
      "3       5  31-Jul-18  Charcoal Fabric    \n",
      "4       5  31-Jul-18  Charcoal Fabric    \n",
      "\n",
      "                                    verified_reviews  feedback  polarity  \n",
      "0                                      Love my Echo!         1 -0.934632  \n",
      "1                                          Loved it!         1  0.674429  \n",
      "2  Sometimes while playing a game, you can answer...         1 -0.442231  \n",
      "3  I have had a lot of fun with this thing. My 4 ...         1  0.569459  \n",
      "4                                              Music         1  1.616272  \n",
      "   rating       date         variation  \\\n",
      "0       5  31-Jul-18  Charcoal Fabric    \n",
      "1       5  31-Jul-18  Charcoal Fabric    \n",
      "2       4  31-Jul-18    Walnut Finish    \n",
      "3       5  31-Jul-18  Charcoal Fabric    \n",
      "4       5  31-Jul-18  Charcoal Fabric    \n",
      "\n",
      "                                    verified_reviews  feedback  polarity  \n",
      "0                                      Love my Echo!         1       1.0  \n",
      "1                                          Loved it!         1       1.0  \n",
      "2  Sometimes while playing a game, you can answer...         1       1.0  \n",
      "3  I have had a lot of fun with this thing. My 4 ...         1       1.0  \n",
      "4                                              Music         1       1.0  \n"
     ]
    },
    {
     "name": "stderr",
     "output_type": "stream",
     "text": [
      "/home/ab/.local/lib/python3.5/site-packages/ipykernel_launcher.py:1: SettingWithCopyWarning: \n",
      "A value is trying to be set on a copy of a slice from a DataFrame.\n",
      "Try using .loc[row_indexer,col_indexer] = value instead\n",
      "\n",
      "See the caveats in the documentation: http://pandas.pydata.org/pandas-docs/stable/indexing.html#indexing-view-versus-copy\n",
      "  \"\"\"Entry point for launching an IPython kernel.\n",
      "/home/ab/.local/lib/python3.5/site-packages/pandas/core/indexing.py:189: SettingWithCopyWarning: \n",
      "A value is trying to be set on a copy of a slice from a DataFrame\n",
      "\n",
      "See the caveats in the documentation: http://pandas.pydata.org/pandas-docs/stable/indexing.html#indexing-view-versus-copy\n",
      "  self._setitem_with_indexer(indexer, value)\n",
      "/home/ab/.local/lib/python3.5/site-packages/ipykernel_launcher.py:3: SettingWithCopyWarning: \n",
      "A value is trying to be set on a copy of a slice from a DataFrame\n",
      "\n",
      "See the caveats in the documentation: http://pandas.pydata.org/pandas-docs/stable/indexing.html#indexing-view-versus-copy\n",
      "  This is separate from the ipykernel package so we can avoid doing imports until\n",
      "/home/ab/.local/lib/python3.5/site-packages/ipykernel_launcher.py:4: SettingWithCopyWarning: \n",
      "A value is trying to be set on a copy of a slice from a DataFrame\n",
      "\n",
      "See the caveats in the documentation: http://pandas.pydata.org/pandas-docs/stable/indexing.html#indexing-view-versus-copy\n",
      "  after removing the cwd from sys.path.\n"
     ]
    }
   ],
   "source": [
    "polar_reviews['polarity'] = np.random.randn(len(polar_reviews.verified_reviews))\n",
    "print(polar_reviews.head())\n",
    "polar_reviews['polarity'].loc[(polar_reviews['rating'] == 5) | (polar_reviews['rating'] == 4)] = 1\n",
    "polar_reviews['polarity'].loc[(polar_reviews['rating'] == 2) | (polar_reviews['rating'] == 1)] = 0\n",
    "print(polar_reviews.head())"
   ]
  },
  {
   "cell_type": "code",
   "execution_count": 34,
   "metadata": {},
   "outputs": [
    {
     "name": "stdout",
     "output_type": "stream",
     "text": [
      "['Six', 'Seasons', 'movie']\n"
     ]
    }
   ],
   "source": [
    "x = polar_reviews['verified_reviews']\n",
    "y = polar_reviews['polarity']\n",
    "\n",
    "def text_process(text):\n",
    "\n",
    "    '''\n",
    "    Takes in a string of text, then performs the following:\n",
    "    1. Remove all punctuation\n",
    "    2. Remove all stopwords\n",
    "    3. Return the cleaned text as a list of words\n",
    "    '''\n",
    "\n",
    "    remove_punctuation = [char for char in text if char not in string.punctuation]\n",
    "\n",
    "    remove_punctuation = ''.join(remove_punctuation)\n",
    "    \n",
    "    return [word for word in remove_punctuation.split() if word.lower() not in nltk.corpus.stopwords.words('english')]\n",
    "\n",
    "sample = \"Six Seasons and a movie!\"\n",
    "print(text_process(sample))\n"
   ]
  },
  {
   "cell_type": "code",
   "execution_count": 35,
   "metadata": {},
   "outputs": [],
   "source": [
    "#bow_transformer = CountVectorizer(analyzer=text_process).fit(x)\n",
    "from sklearn.feature_extraction.text import TfidfVectorizer\n",
    "\n",
    "# This vectorizer breaks text into single words and bi-grams\n",
    "# and then calculates the TF-IDF representation\n",
    "vectorizer = TfidfVectorizer(ngram_range=(1,2))\n",
    "#t1 = datetime.now()\n",
    "\n",
    "# the 'fit' builds up the vocabulary from all the reviews\n",
    "# while the 'transform' step turns each indivdual text into\n",
    "# a matrix of numbers.\n",
    "X = vectorizer.fit_transform(x)\n",
    "#print(datetime.now() - t1)"
   ]
  },
  {
   "cell_type": "code",
   "execution_count": 11,
   "metadata": {},
   "outputs": [
    {
     "name": "stdout",
     "output_type": "stream",
     "text": [
      "We are loving Ours very much\n",
      "  (0, 3087)\t1\n",
      "  (0, 3231)\t1\n"
     ]
    }
   ],
   "source": [
    "len(bow_transformer.vocabulary_)\n",
    "review_255 = x[255]\n",
    "print(review_255)\n",
    "bow_25 = bow_transformer.transform([review_255])\n",
    "print(bow_25)"
   ]
  },
  {
   "cell_type": "code",
   "execution_count": 36,
   "metadata": {},
   "outputs": [
    {
     "name": "stdout",
     "output_type": "stream",
     "text": [
      "almost\n"
     ]
    }
   ],
   "source": [
    "#print(bow_transformer.get_feature_names()[1143])\n",
    "#X = bow_transformer.transform(x)\n",
    "print(vectorizer.get_feature_names()[1143])\n",
    "X = vectorizer.fit_transform(x)"
   ]
  },
  {
   "cell_type": "code",
   "execution_count": 37,
   "metadata": {},
   "outputs": [
    {
     "name": "stdout",
     "output_type": "stream",
     "text": [
      "Shape of Sparse Matrix:  (2998, 29920)\n",
      "Amount of Non-Zero occurrences:  121729\n"
     ]
    }
   ],
   "source": [
    "print('Shape of Sparse Matrix: ', X.shape)\n",
    "print('Amount of Non-Zero occurrences: ', X.nnz)\n",
    "\n",
    "# Percentage of non-zero values\n",
    "density = (100.0 * X.nnz / (X.shape[0] * X.shape[1]))"
   ]
  },
  {
   "cell_type": "code",
   "execution_count": 48,
   "metadata": {},
   "outputs": [],
   "source": [
    "from sklearn.model_selection import train_test_split\n",
    "\n",
    "X_train, X_test, y_train, y_test = train_test_split(X, y, test_size=0.3, random_state=2017, stratify = y)"
   ]
  },
  {
   "cell_type": "code",
   "execution_count": 49,
   "metadata": {},
   "outputs": [
    {
     "data": {
      "text/plain": [
       "SVC(C=1.0, cache_size=200, class_weight=None, coef0=0.0,\n",
       "  decision_function_shape='ovr', degree=3, gamma='auto', kernel='linear',\n",
       "  max_iter=-1, probability=False, random_state=None, shrinking=True,\n",
       "  tol=0.001, verbose=False)"
      ]
     },
     "execution_count": 49,
     "metadata": {},
     "output_type": "execute_result"
    }
   ],
   "source": [
    "#from sklearn.naive_bayes import MultinomialNB\n",
    "\n",
    "#nb = MultinomialNB()\n",
    "#nb.fit(X_train, y_train)\n",
    "#Import svm model\n",
    "from sklearn import svm\n",
    "\n",
    "#Create a svm Classifier\n",
    "clf = svm.SVC(kernel='linear') # Linear Kernel\n",
    "\n",
    "#Train the model using the training sets\n",
    "clf.fit(X_train, y_train)"
   ]
  },
  {
   "cell_type": "code",
   "execution_count": 50,
   "metadata": {},
   "outputs": [],
   "source": [
    "predictions = nb.predict(X_test)"
   ]
  },
  {
   "cell_type": "code",
   "execution_count": 51,
   "metadata": {},
   "outputs": [
    {
     "name": "stdout",
     "output_type": "stream",
     "text": [
      "[[  0  77]\n",
      " [  0 823]]\n",
      "\n",
      "\n",
      "             precision    recall  f1-score   support\n",
      "\n",
      "        0.0       0.00      0.00      0.00        77\n",
      "        1.0       0.91      1.00      0.96       823\n",
      "\n",
      "avg / total       0.84      0.91      0.87       900\n",
      "\n"
     ]
    },
    {
     "name": "stderr",
     "output_type": "stream",
     "text": [
      "/home/ab/.local/lib/python3.5/site-packages/sklearn/metrics/classification.py:1135: UndefinedMetricWarning: Precision and F-score are ill-defined and being set to 0.0 in labels with no predicted samples.\n",
      "  'precision', 'predicted', average, warn_for)\n"
     ]
    }
   ],
   "source": [
    "from sklearn.metrics import confusion_matrix, classification_report\n",
    "\n",
    "print(confusion_matrix(y_test, predictions))\n",
    "print('\\n')\n",
    "print(classification_report(y_test, predictions))\n",
    "\n",
    "#F1 score with:\n",
    "#SVM and BOW: 94%\n",
    "#NB and BOW: 93%\n",
    "#NB and TF-IDF: 88%\n",
    "#SVM and TF-IDF: 87%"
   ]
  },
  {
   "cell_type": "code",
   "execution_count": 50,
   "metadata": {},
   "outputs": [
    {
     "name": "stdout",
     "output_type": "stream",
     "text": [
      "Waste\n",
      "Shape of Sparse Matrix:  (3150, 5211)\n",
      "Amount of Non-Zero occurrences:  37628\n",
      "Shape of y: (3150,)\n"
     ]
    }
   ],
   "source": [
    "#So we are actually able to get this right most of the time. Let's try with predicting the actual ratings.\n",
    "x_rating = reviews['verified_reviews']\n",
    "y_rating = reviews['rating']\n",
    "bow_transformer = CountVectorizer(analyzer=text_process).fit(x_rating)\n",
    "#vectorizer = TfidfVectorizer(ngram_range=(1,2))\n",
    "#X = vectorizer.fit_transform(x_rating)\n",
    "len(bow_transformer.vocabulary_)\n",
    "review_25 = x_rating[25]\n",
    "bow_25 = bow_transformer.transform([review_25])\n",
    "bow_25\n",
    "print(bow_transformer.get_feature_names()[1143])\n",
    "X = bow_transformer.transform(x_rating)\n",
    "print('Shape of Sparse Matrix: ', X.shape)\n",
    "print('Amount of Non-Zero occurrences: ', X.nnz)\n",
    "# Percentage of non-zero values\n",
    "density = (100.0 * X.nnz / (X.shape[0] * X.shape[1]))\n",
    "print('Shape of y:', np.shape(y_rating))"
   ]
  },
  {
   "cell_type": "code",
   "execution_count": 30,
   "metadata": {},
   "outputs": [],
   "source": [
    "from sklearn.model_selection import train_test_split\n",
    "\n",
    "X_train, X_test, y_train, y_test = train_test_split(X, y_rating, test_size=0.3, random_state=2017)"
   ]
  },
  {
   "cell_type": "code",
   "execution_count": 31,
   "metadata": {},
   "outputs": [
    {
     "name": "stdout",
     "output_type": "stream",
     "text": [
      "0.7481481481481481\n",
      "             precision    recall  f1-score   support\n",
      "\n",
      "          1       0.54      0.42      0.47        48\n",
      "          2       0.33      0.29      0.31        28\n",
      "          3       0.42      0.36      0.38        42\n",
      "          4       0.41      0.28      0.33       138\n",
      "          5       0.83      0.91      0.87       689\n",
      "\n",
      "avg / total       0.72      0.75      0.73       945\n",
      "\n"
     ]
    }
   ],
   "source": [
    "from sklearn import svm\n",
    "\n",
    "#Create a svm Classifier\n",
    "clf_rating = svm.SVC(kernel='linear') # Linear Kernel\n",
    "\n",
    "#Train the model using the training sets\n",
    "clf_rating.fit(X_train, y_train)\n",
    "\n",
    "#from sklearn.naive_bayes import MultinomialNB\n",
    "\n",
    "#nb_rating = MultinomialNB()\n",
    "#nb_rating.fit(X_train, y_train)\n",
    "\n",
    "predictions = clf_rating.predict(X_test)\n",
    "\n",
    "from sklearn.metrics import accuracy_score\n",
    "print(accuracy_score(y_test, predictions))\n",
    "\n",
    "from sklearn.metrics import classification_report\n",
    "print(classification_report(y_test, predictions))"
   ]
  },
  {
   "cell_type": "code",
   "execution_count": 2,
   "metadata": {},
   "outputs": [
    {
     "name": "stdout",
     "output_type": "stream",
     "text": [
      "<class 'pandas.core.frame.DataFrame'>\n",
      "RangeIndex: 25000 entries, 0 to 24999\n",
      "Data columns (total 11 columns):\n",
      "Unnamed: 0                25000 non-null int64\n",
      "Id                        25000 non-null int64\n",
      "ProductId                 25000 non-null object\n",
      "UserId                    25000 non-null object\n",
      "ProfileName               24997 non-null object\n",
      "HelpfulnessNumerator      25000 non-null int64\n",
      "HelpfulnessDenominator    25000 non-null int64\n",
      "Score                     25000 non-null int64\n",
      "Time                      25000 non-null int64\n",
      "Summary                   24996 non-null object\n",
      "Text                      25000 non-null object\n",
      "dtypes: int64(6), object(5)\n",
      "memory usage: 2.1+ MB\n",
      "   Unnamed: 0      Id   ProductId          UserId     ProfileName  \\\n",
      "0           1  526171  B006ABD3DY  A19THLC5ICNIKV         artlady   \n",
      "1           2  308012  B001BS4G6O   AOA0GQX1RWKT1      Janet Chou   \n",
      "2           3  269420  B000P41A46  A3Q2SN758CPI16  Cornelia Stutz   \n",
      "3           4  166115  B001CWV4RS  A2J1MM9A9F9LX9          Lisa S   \n",
      "4           5  439179  B004IJHY4Y  A2KZVGG2PS3WB3        Tsclower   \n",
      "\n",
      "   HelpfulnessNumerator  HelpfulnessDenominator  Score        Time  \\\n",
      "0                     4                       4      5  1331596800   \n",
      "1                     1                       1      5  1230422400   \n",
      "2                     0                       0      5  1347926400   \n",
      "3                     0                       0      5  1209600000   \n",
      "4                     4                       4      5  1287360000   \n",
      "\n",
      "                                             Summary  \\\n",
      "0                                  salt of the earth   \n",
      "1  It takes away the aggravation in feeding your ...   \n",
      "2                                   IT REALLY WORKS!   \n",
      "3                             A great snack choice!!   \n",
      "4                                These are the best!   \n",
      "\n",
      "                                                Text  \n",
      "0  This wonderful sea salt is both beautiful and ...  \n",
      "1  Whoever invented this product is brilliant. Bo...  \n",
      "2  Our son, since he was born, has had really tou...  \n",
      "3  I just bought these for the first time. WOW! T...  \n",
      "4  These cookies are the best animal cookies in t...  \n"
     ]
    }
   ],
   "source": [
    "#Okay, perhaps the model needs more data\n",
    "food_reviews = pd.read_csv('/home/ab/Downloads/amazon-fine-food-reviews/stratified_reviews.csv', sep = ',', quotechar = '\"')\n",
    "food_reviews.info()\n",
    "print(food_reviews.head())"
   ]
  },
  {
   "cell_type": "code",
   "execution_count": 23,
   "metadata": {},
   "outputs": [
    {
     "data": {
      "image/png": "[encoded data removed]",
      "text/plain": [
       "<Figure size 432x288 with 1 Axes>"
      ]
     },
     "metadata": {},
     "output_type": "display_data"
    }
   ],
   "source": [
    "n, bins, patches = plt.hist(x=food_reviews.Score, bins=[1,2,3,4,5,6], color='#0504aa',\n",
    "                            alpha=0.7, rwidth=0.85)\n",
    "plt.grid(axis='y', alpha=0.75)\n",
    "plt.xlabel('Rating')\n",
    "plt.ylabel('Frequency')\n",
    "plt.title('Ratings and their frequency')\n",
    "#plt.text(23, 45, r'$\\mu=15, b=3$')\n",
    "maxfreq = n.max()"
   ]
  },
  {
   "cell_type": "code",
   "execution_count": 24,
   "metadata": {},
   "outputs": [],
   "source": [
    "x_food = food_reviews['Text']\n",
    "y_food = food_reviews['Score']"
   ]
  },
  {
   "cell_type": "code",
   "execution_count": 59,
   "metadata": {},
   "outputs": [
    {
     "name": "stdout",
     "output_type": "stream",
     "text": [
      "['Hey', 'Six', 'Seasons', 'movie', 'Pierce', 'sucks']\n"
     ]
    }
   ],
   "source": [
    "def text_process(text):\n",
    "\n",
    "    '''\n",
    "    Takes in a string of text, then performs the following:\n",
    "    1. Remove all punctuation\n",
    "    2. Remove all stopwords\n",
    "    3. Return the cleaned text as a list of words\n",
    "    '''\n",
    "\n",
    "    nopunc = [char for char in text if char not in string.punctuation]\n",
    "\n",
    "    nopunc = ''.join(nopunc)\n",
    "    \n",
    "    return [word for word in nopunc.split() if word.lower() not in nltk.corpus.stopwords.words('english')]\n",
    "\n",
    "sample_text = \"Hey there! Six Seasons and a movie! Pierce sucks!\"\n",
    "print(text_process(sample_text))"
   ]
  },
  {
   "cell_type": "code",
   "execution_count": 52,
   "metadata": {},
   "outputs": [],
   "source": [
    "from sklearn.feature_extraction.text import TfidfVectorizer\n",
    "vectorizer = TfidfVectorizer(ngram_range=(1,2))\n",
    "food_vec = vectorizer.fit_transform(x_food)"
   ]
  },
  {
   "cell_type": "code",
   "execution_count": 60,
   "metadata": {},
   "outputs": [
    {
     "name": "stdout",
     "output_type": "stream",
     "text": [
      "24pack\n"
     ]
    }
   ],
   "source": [
    "#If you have run the previous cell, don't run this one\n",
    "bow_transformer = CountVectorizer(analyzer=text_process).fit(x_food)\n",
    "len(bow_transformer.vocabulary_)\n",
    "review_25 = x_food[25]\n",
    "bow_25 = bow_transformer.transform([review_25])\n",
    "bow_25\n",
    "print(bow_transformer.get_feature_names()[1143])\n",
    "food_vec = bow_transformer.transform(x_food)"
   ]
  },
  {
   "cell_type": "code",
   "execution_count": 61,
   "metadata": {},
   "outputs": [
    {
     "name": "stdout",
     "output_type": "stream",
     "text": [
      "Shape of Sparse Matrix:  (25000, 54948)\n",
      "Amount of Non-Zero occurrences:  948204\n",
      "Shape of y: (25000,)\n"
     ]
    }
   ],
   "source": [
    "print('Shape of Sparse Matrix: ', food_vec.shape)\n",
    "print('Amount of Non-Zero occurrences: ', food_vec.nnz)\n",
    "# Percentage of non-zero values\n",
    "density = (100.0 * food_vec.nnz / (food_vec.shape[0] * food_vec.shape[1]))\n",
    "print('Shape of y:', np.shape(y_food))"
   ]
  },
  {
   "cell_type": "code",
   "execution_count": 62,
   "metadata": {},
   "outputs": [],
   "source": [
    "from sklearn.model_selection import train_test_split\n",
    "X_train, X_test, y_train, y_test = train_test_split(food_vec, y_food, test_size=0.25, random_state=2017)"
   ]
  },
  {
   "cell_type": "code",
   "execution_count": 64,
   "metadata": {},
   "outputs": [
    {
     "name": "stdout",
     "output_type": "stream",
     "text": [
      "[[779 280 120  49  43]\n",
      " [301 577 220 100  46]\n",
      " [165 278 512 199  93]\n",
      " [ 84 145 259 517 258]\n",
      " [ 85  91 143 298 608]]\n",
      "\n",
      "\n",
      "             precision    recall  f1-score   support\n",
      "\n",
      "          1       0.55      0.61      0.58      1271\n",
      "          2       0.42      0.46      0.44      1244\n",
      "          3       0.41      0.41      0.41      1247\n",
      "          4       0.44      0.41      0.43      1263\n",
      "          5       0.58      0.50      0.53      1225\n",
      "\n",
      "avg / total       0.48      0.48      0.48      6250\n",
      "\n"
     ]
    }
   ],
   "source": [
    "#from sklearn.naive_bayes import MultinomialNB\n",
    "#nb_food = MultinomialNB()\n",
    "#nb_food.fit(X_train, y_train)\n",
    "#predictions = nb_food.predict(X_test)\n",
    "\n",
    "from sklearn import svm\n",
    "\n",
    "#Create a svm Classifier\n",
    "clf_food = svm.SVC(kernel='linear') # Linear Kernel\n",
    "\n",
    "#Train the model using the training sets\n",
    "clf_food.fit(X_train, y_train)\n",
    "\n",
    "predictions = clf_food.predict(X_test)\n",
    "\n",
    "from sklearn.metrics import confusion_matrix, classification_report\n",
    "print(confusion_matrix(y_test, predictions))\n",
    "print('\\n')\n",
    "print(classification_report(y_test, predictions))\n",
    "#Naive Bayes with TF-IDF: 54%[61,50,48,50,59]\n",
    "#Naive Bayes with BOW: 47%[55,43,49,43,54]\n",
    "#SVM with TF-IDF: 55%[65,49,49,48,65]\n",
    "#SVM with BOW: 48%[58,44,41,43,53]"
   ]
  },
  {
   "cell_type": "code",
   "execution_count": 30,
   "metadata": {},
   "outputs": [
    {
     "name": "stdout",
     "output_type": "stream",
     "text": [
      "<class 'pandas.core.frame.DataFrame'>\n",
      "Int64Index: 20000 entries, 0 to 19999\n",
      "Data columns (total 11 columns):\n",
      "Unnamed: 0                20000 non-null int64\n",
      "Id                        20000 non-null int64\n",
      "ProductId                 20000 non-null object\n",
      "UserId                    20000 non-null object\n",
      "ProfileName               19997 non-null object\n",
      "HelpfulnessNumerator      20000 non-null int64\n",
      "HelpfulnessDenominator    20000 non-null int64\n",
      "Score                     20000 non-null int64\n",
      "Time                      20000 non-null int64\n",
      "Summary                   19997 non-null object\n",
      "Text                      20000 non-null object\n",
      "dtypes: int64(6), object(5)\n",
      "memory usage: 1.8+ MB\n",
      "   Unnamed: 0      Id   ProductId          UserId     ProfileName  \\\n",
      "0           1  526171  B006ABD3DY  A19THLC5ICNIKV         artlady   \n",
      "1           2  308012  B001BS4G6O   AOA0GQX1RWKT1      Janet Chou   \n",
      "2           3  269420  B000P41A46  A3Q2SN758CPI16  Cornelia Stutz   \n",
      "3           4  166115  B001CWV4RS  A2J1MM9A9F9LX9          Lisa S   \n",
      "4           5  439179  B004IJHY4Y  A2KZVGG2PS3WB3        Tsclower   \n",
      "\n",
      "   HelpfulnessNumerator  HelpfulnessDenominator  Score        Time  \\\n",
      "0                     4                       4      5  1331596800   \n",
      "1                     1                       1      5  1230422400   \n",
      "2                     0                       0      5  1347926400   \n",
      "3                     0                       0      5  1209600000   \n",
      "4                     4                       4      5  1287360000   \n",
      "\n",
      "                                             Summary  \\\n",
      "0                                  salt of the earth   \n",
      "1  It takes away the aggravation in feeding your ...   \n",
      "2                                   IT REALLY WORKS!   \n",
      "3                             A great snack choice!!   \n",
      "4                                These are the best!   \n",
      "\n",
      "                                                Text  \n",
      "0  This wonderful sea salt is both beautiful and ...  \n",
      "1  Whoever invented this product is brilliant. Bo...  \n",
      "2  Our son, since he was born, has had really tou...  \n",
      "3  I just bought these for the first time. WOW! T...  \n",
      "4  These cookies are the best animal cookies in t...  \n"
     ]
    }
   ],
   "source": [
    "polar_food = food_reviews.query(\"Score < 3 or Score > 3\")\n",
    "polar_food.info()\n",
    "print(polar_food.head())"
   ]
  },
  {
   "cell_type": "code",
   "execution_count": 32,
   "metadata": {},
   "outputs": [
    {
     "name": "stderr",
     "output_type": "stream",
     "text": [
      "/home/ab/.local/lib/python3.5/site-packages/ipykernel_launcher.py:1: SettingWithCopyWarning: \n",
      "A value is trying to be set on a copy of a slice from a DataFrame.\n",
      "Try using .loc[row_indexer,col_indexer] = value instead\n",
      "\n",
      "See the caveats in the documentation: http://pandas.pydata.org/pandas-docs/stable/indexing.html#indexing-view-versus-copy\n",
      "  \"\"\"Entry point for launching an IPython kernel.\n",
      "/home/ab/.local/lib/python3.5/site-packages/pandas/core/indexing.py:189: SettingWithCopyWarning: \n",
      "A value is trying to be set on a copy of a slice from a DataFrame\n",
      "\n",
      "See the caveats in the documentation: http://pandas.pydata.org/pandas-docs/stable/indexing.html#indexing-view-versus-copy\n",
      "  self._setitem_with_indexer(indexer, value)\n",
      "/home/ab/.local/lib/python3.5/site-packages/ipykernel_launcher.py:3: SettingWithCopyWarning: \n",
      "A value is trying to be set on a copy of a slice from a DataFrame\n",
      "\n",
      "See the caveats in the documentation: http://pandas.pydata.org/pandas-docs/stable/indexing.html#indexing-view-versus-copy\n",
      "  This is separate from the ipykernel package so we can avoid doing imports until\n"
     ]
    },
    {
     "name": "stdout",
     "output_type": "stream",
     "text": [
      "   Unnamed: 0      Id   ProductId          UserId     ProfileName  \\\n",
      "0           1  526171  B006ABD3DY  A19THLC5ICNIKV         artlady   \n",
      "1           2  308012  B001BS4G6O   AOA0GQX1RWKT1      Janet Chou   \n",
      "2           3  269420  B000P41A46  A3Q2SN758CPI16  Cornelia Stutz   \n",
      "3           4  166115  B001CWV4RS  A2J1MM9A9F9LX9          Lisa S   \n",
      "4           5  439179  B004IJHY4Y  A2KZVGG2PS3WB3        Tsclower   \n",
      "\n",
      "   HelpfulnessNumerator  HelpfulnessDenominator  Score        Time  \\\n",
      "0                     4                       4      5  1331596800   \n",
      "1                     1                       1      5  1230422400   \n",
      "2                     0                       0      5  1347926400   \n",
      "3                     0                       0      5  1209600000   \n",
      "4                     4                       4      5  1287360000   \n",
      "\n",
      "                                             Summary  \\\n",
      "0                                  salt of the earth   \n",
      "1  It takes away the aggravation in feeding your ...   \n",
      "2                                   IT REALLY WORKS!   \n",
      "3                             A great snack choice!!   \n",
      "4                                These are the best!   \n",
      "\n",
      "                                                Text  polarity  \n",
      "0  This wonderful sea salt is both beautiful and ... -0.676513  \n",
      "1  Whoever invented this product is brilliant. Bo...  0.018404  \n",
      "2  Our son, since he was born, has had really tou...  0.574610  \n",
      "3  I just bought these for the first time. WOW! T...  1.178359  \n",
      "4  These cookies are the best animal cookies in t...  0.198109  \n",
      "   Unnamed: 0      Id   ProductId          UserId     ProfileName  \\\n",
      "0           1  526171  B006ABD3DY  A19THLC5ICNIKV         artlady   \n",
      "1           2  308012  B001BS4G6O   AOA0GQX1RWKT1      Janet Chou   \n",
      "2           3  269420  B000P41A46  A3Q2SN758CPI16  Cornelia Stutz   \n",
      "3           4  166115  B001CWV4RS  A2J1MM9A9F9LX9          Lisa S   \n",
      "4           5  439179  B004IJHY4Y  A2KZVGG2PS3WB3        Tsclower   \n",
      "\n",
      "   HelpfulnessNumerator  HelpfulnessDenominator  Score        Time  \\\n",
      "0                     4                       4      5  1331596800   \n",
      "1                     1                       1      5  1230422400   \n",
      "2                     0                       0      5  1347926400   \n",
      "3                     0                       0      5  1209600000   \n",
      "4                     4                       4      5  1287360000   \n",
      "\n",
      "                                             Summary  \\\n",
      "0                                  salt of the earth   \n",
      "1  It takes away the aggravation in feeding your ...   \n",
      "2                                   IT REALLY WORKS!   \n",
      "3                             A great snack choice!!   \n",
      "4                                These are the best!   \n",
      "\n",
      "                                                Text  polarity  \n",
      "0  This wonderful sea salt is both beautiful and ...       1.0  \n",
      "1  Whoever invented this product is brilliant. Bo...       1.0  \n",
      "2  Our son, since he was born, has had really tou...       1.0  \n",
      "3  I just bought these for the first time. WOW! T...       1.0  \n",
      "4  These cookies are the best animal cookies in t...       1.0  \n"
     ]
    },
    {
     "name": "stderr",
     "output_type": "stream",
     "text": [
      "/home/ab/.local/lib/python3.5/site-packages/ipykernel_launcher.py:4: SettingWithCopyWarning: \n",
      "A value is trying to be set on a copy of a slice from a DataFrame\n",
      "\n",
      "See the caveats in the documentation: http://pandas.pydata.org/pandas-docs/stable/indexing.html#indexing-view-versus-copy\n",
      "  after removing the cwd from sys.path.\n"
     ]
    }
   ],
   "source": [
    "polar_food['polarity'] = np.random.randn(len(polar_food.Text))\n",
    "print(polar_food.head())\n",
    "polar_food['polarity'].loc[(polar_food['Score'] == 5) | (polar_food['Score'] == 4)] = 1\n",
    "polar_food['polarity'].loc[(polar_food['Score'] == 2) | (polar_food['Score'] == 1)] = 0\n",
    "print(polar_food.head())"
   ]
  },
  {
   "cell_type": "code",
   "execution_count": 34,
   "metadata": {},
   "outputs": [],
   "source": [
    "x_food_p = polar_food['Text']\n",
    "y_food_p = polar_food['polarity']"
   ]
  },
  {
   "cell_type": "code",
   "execution_count": 41,
   "metadata": {},
   "outputs": [
    {
     "name": "stdout",
     "output_type": "stream",
     "text": [
      "['Hey', 'Six', 'Seasons', 'movie', 'Pierce', 'sucks']\n"
     ]
    }
   ],
   "source": [
    "def text_process(text):\n",
    "\n",
    "    '''\n",
    "    Takes in a string of text, then performs the following:\n",
    "    1. Remove all punctuation\n",
    "    2. Remove all stopwords\n",
    "    3. Return the cleaned text as a list of words\n",
    "    '''\n",
    "\n",
    "    nopunc = [char for char in text if char not in string.punctuation]\n",
    "\n",
    "    nopunc = ''.join(nopunc)\n",
    "    \n",
    "    return [word for word in nopunc.split() if word.lower() not in nltk.corpus.stopwords.words('english')]\n",
    "\n",
    "sample_text = \"Hey there! Six Seasons and a movie! Pierce sucks!\"\n",
    "print(text_process(sample_text))\n"
   ]
  },
  {
   "cell_type": "code",
   "execution_count": 47,
   "metadata": {},
   "outputs": [],
   "source": [
    "from sklearn.feature_extraction.text import TfidfVectorizer\n",
    "vectorizer = TfidfVectorizer(ngram_range=(1,2))\n",
    "food_vec_p = vectorizer.fit_transform(x_food_p)"
   ]
  },
  {
   "cell_type": "code",
   "execution_count": 42,
   "metadata": {},
   "outputs": [
    {
     "name": "stdout",
     "output_type": "stream",
     "text": [
      "2pm\n"
     ]
    }
   ],
   "source": [
    "#If you have run the previous cell, don't run this one\n",
    "bow_transformer_p = CountVectorizer(analyzer=text_process).fit(x_food_p)\n",
    "len(bow_transformer_p.vocabulary_)\n",
    "review_25 = x_food_p[25]\n",
    "bow_25 = bow_transformer_p.transform([review_25])\n",
    "bow_25\n",
    "print(bow_transformer_p.get_feature_names()[1143])\n",
    "food_vec_p = bow_transformer_p.transform(x_food_p)"
   ]
  },
  {
   "cell_type": "code",
   "execution_count": 48,
   "metadata": {},
   "outputs": [
    {
     "name": "stdout",
     "output_type": "stream",
     "text": [
      "Shape of Sparse Matrix:  (20000, 432678)\n",
      "Amount of Non-Zero occurrences:  2662985\n",
      "Shape of y: (20000,)\n"
     ]
    }
   ],
   "source": [
    "print('Shape of Sparse Matrix: ', food_vec_p.shape)\n",
    "print('Amount of Non-Zero occurrences: ', food_vec_p.nnz)\n",
    "# Percentage of non-zero values\n",
    "density = (100.0 * food_vec_p.nnz / (food_vec_p.shape[0] * food_vec_p.shape[1]))\n",
    "print('Shape of y:', np.shape(y_food_p))"
   ]
  },
  {
   "cell_type": "code",
   "execution_count": 49,
   "metadata": {},
   "outputs": [],
   "source": [
    "from sklearn.model_selection import train_test_split\n",
    "X_train, X_test, y_train, y_test = train_test_split(food_vec_p, y_food_p, test_size=0.33, random_state=2017)"
   ]
  },
  {
   "cell_type": "code",
   "execution_count": 51,
   "metadata": {},
   "outputs": [
    {
     "name": "stdout",
     "output_type": "stream",
     "text": [
      "[[2947  383]\n",
      " [ 419 2851]]\n",
      "\n",
      "\n",
      "             precision    recall  f1-score   support\n",
      "\n",
      "        0.0       0.88      0.88      0.88      3330\n",
      "        1.0       0.88      0.87      0.88      3270\n",
      "\n",
      "avg / total       0.88      0.88      0.88      6600\n",
      "\n"
     ]
    }
   ],
   "source": [
    "from sklearn.naive_bayes import MultinomialNB\n",
    "nb_food_p = MultinomialNB()\n",
    "nb_food_p.fit(X_train, y_train)\n",
    "predictions = nb_food_p.predict(X_test)\n",
    "\n",
    "#from sklearn import svm\n",
    "\n",
    "#Create a svm Classifier\n",
    "#clf_food_p = svm.SVC(kernel='linear') # Linear Kernel\n",
    "\n",
    "#Train the model using the training sets\n",
    "#clf_food_p.fit(X_train, y_train)\n",
    "\n",
    "#predictions = clf_food_p.predict(X_test)\n",
    "\n",
    "from sklearn.metrics import confusion_matrix, classification_report\n",
    "print(confusion_matrix(y_test, predictions))\n",
    "print('\\n')\n",
    "print(classification_report(y_test, predictions))\n",
    "\n",
    "#Naive Bayes with BOW: F1 score of 82%\n",
    "#SVM with BOW: 83%\n",
    "#SVM with TF-IDF: 89%\n",
    "#Naive Bayes with TF-IDF: 88%"
   ]
  },
  {
   "cell_type": "code",
   "execution_count": 3,
   "metadata": {},
   "outputs": [
    {
     "data": {
      "text/html": [
       "<div>\n",
       "<style scoped>\n",
       "    .dataframe tbody tr th:only-of-type {\n",
       "        vertical-align: middle;\n",
       "    }\n",
       "\n",
       "    .dataframe tbody tr th {\n",
       "        vertical-align: top;\n",
       "    }\n",
       "\n",
       "    .dataframe thead th {\n",
       "        text-align: right;\n",
       "    }\n",
       "</style>\n",
       "<table border=\"1\" class=\"dataframe\">\n",
       "  <thead>\n",
       "    <tr style=\"text-align: right;\">\n",
       "      <th></th>\n",
       "      <th>Unnamed: 0</th>\n",
       "      <th>Id</th>\n",
       "      <th>ProductId</th>\n",
       "      <th>UserId</th>\n",
       "      <th>ProfileName</th>\n",
       "      <th>HelpfulnessNumerator</th>\n",
       "      <th>HelpfulnessDenominator</th>\n",
       "      <th>Score</th>\n",
       "      <th>Time</th>\n",
       "      <th>Summary</th>\n",
       "      <th>Text</th>\n",
       "    </tr>\n",
       "  </thead>\n",
       "  <tbody>\n",
       "    <tr>\n",
       "      <th>5000</th>\n",
       "      <td>5001</td>\n",
       "      <td>18136</td>\n",
       "      <td>B008ZRKZSM</td>\n",
       "      <td>A3I8UA8E4R4P37</td>\n",
       "      <td>J. Martin</td>\n",
       "      <td>11</td>\n",
       "      <td>13</td>\n",
       "      <td>1</td>\n",
       "      <td>1329955200</td>\n",
       "      <td>It tasted like salted play doh</td>\n",
       "      <td>I usually never give bad reviews to products b...</td>\n",
       "    </tr>\n",
       "    <tr>\n",
       "      <th>5001</th>\n",
       "      <td>5002</td>\n",
       "      <td>539343</td>\n",
       "      <td>B001BDDT8K</td>\n",
       "      <td>A10U8DJAPJJI8I</td>\n",
       "      <td>William Hefner \"William Van Hefner\"</td>\n",
       "      <td>4</td>\n",
       "      <td>8</td>\n",
       "      <td>1</td>\n",
       "      <td>1227916800</td>\n",
       "      <td>Cat Goes On Hunger Strike</td>\n",
       "      <td>I received two cases of Petite Cusine from Ama...</td>\n",
       "    </tr>\n",
       "    <tr>\n",
       "      <th>5002</th>\n",
       "      <td>5003</td>\n",
       "      <td>334309</td>\n",
       "      <td>B000Q75336</td>\n",
       "      <td>A2S6JMDOTFNMM1</td>\n",
       "      <td>L. Pomante</td>\n",
       "      <td>1</td>\n",
       "      <td>3</td>\n",
       "      <td>1</td>\n",
       "      <td>1198108800</td>\n",
       "      <td>YUCK!</td>\n",
       "      <td>HAS TWO TIMES THE FILLING OF FIG NEWTONS WHICH...</td>\n",
       "    </tr>\n",
       "    <tr>\n",
       "      <th>5003</th>\n",
       "      <td>5004</td>\n",
       "      <td>412901</td>\n",
       "      <td>B004CH96DE</td>\n",
       "      <td>A143VWWW5CGG2S</td>\n",
       "      <td>Richard Lee \"What is Hip?\"</td>\n",
       "      <td>0</td>\n",
       "      <td>0</td>\n",
       "      <td>1</td>\n",
       "      <td>1345161600</td>\n",
       "      <td>changed for the worse</td>\n",
       "      <td>Until last year the 1928 flavor was very dry a...</td>\n",
       "    </tr>\n",
       "    <tr>\n",
       "      <th>5004</th>\n",
       "      <td>5005</td>\n",
       "      <td>341874</td>\n",
       "      <td>B0017WO2JK</td>\n",
       "      <td>A20KHETIOZEJCL</td>\n",
       "      <td>relaxed to natural</td>\n",
       "      <td>0</td>\n",
       "      <td>1</td>\n",
       "      <td>1</td>\n",
       "      <td>1327881600</td>\n",
       "      <td>Joy Tea is better</td>\n",
       "      <td>This tea has ABSOLUTELY no taste.  Please beli...</td>\n",
       "    </tr>\n",
       "  </tbody>\n",
       "</table>\n",
       "</div>"
      ],
      "text/plain": [
       "      Unnamed: 0      Id   ProductId          UserId  \\\n",
       "5000        5001   18136  B008ZRKZSM  A3I8UA8E4R4P37   \n",
       "5001        5002  539343  B001BDDT8K  A10U8DJAPJJI8I   \n",
       "5002        5003  334309  B000Q75336  A2S6JMDOTFNMM1   \n",
       "5003        5004  412901  B004CH96DE  A143VWWW5CGG2S   \n",
       "5004        5005  341874  B0017WO2JK  A20KHETIOZEJCL   \n",
       "\n",
       "                              ProfileName  HelpfulnessNumerator  \\\n",
       "5000                            J. Martin                    11   \n",
       "5001  William Hefner \"William Van Hefner\"                     4   \n",
       "5002                           L. Pomante                     1   \n",
       "5003           Richard Lee \"What is Hip?\"                     0   \n",
       "5004                   relaxed to natural                     0   \n",
       "\n",
       "      HelpfulnessDenominator  Score        Time  \\\n",
       "5000                      13      1  1329955200   \n",
       "5001                       8      1  1227916800   \n",
       "5002                       3      1  1198108800   \n",
       "5003                       0      1  1345161600   \n",
       "5004                       1      1  1327881600   \n",
       "\n",
       "                             Summary  \\\n",
       "5000  It tasted like salted play doh   \n",
       "5001       Cat Goes On Hunger Strike   \n",
       "5002                           YUCK!   \n",
       "5003           changed for the worse   \n",
       "5004               Joy Tea is better   \n",
       "\n",
       "                                                   Text  \n",
       "5000  I usually never give bad reviews to products b...  \n",
       "5001  I received two cases of Petite Cusine from Ama...  \n",
       "5002  HAS TWO TIMES THE FILLING OF FIG NEWTONS WHICH...  \n",
       "5003  Until last year the 1928 flavor was very dry a...  \n",
       "5004  This tea has ABSOLUTELY no taste.  Please beli...  "
      ]
     },
     "execution_count": 3,
     "metadata": {},
     "output_type": "execute_result"
    }
   ],
   "source": [
    "#Let's make a wordcloud out of all the 1-star reviews\n",
    "dislike = food_reviews.query(\"Score == 1\")\n",
    "dislike.head()"
   ]
  },
  {
   "cell_type": "code",
   "execution_count": 4,
   "metadata": {},
   "outputs": [
    {
     "name": "stdout",
     "output_type": "stream",
     "text": [
      "['Six', 'Seasons', 'Movie']\n"
     ]
    }
   ],
   "source": [
    "def text_process(text):\n",
    "\n",
    "    '''\n",
    "    Takes in a string of text, then performs the following:\n",
    "    1. Remove all punctuation\n",
    "    2. Remove all stopwords\n",
    "    3. Return the cleaned text as a list of words\n",
    "    '''\n",
    "\n",
    "    nopunc = [char for char in text if char not in string.punctuation]\n",
    "\n",
    "    nopunc = ''.join(nopunc)\n",
    "    \n",
    "    return [word for word in nopunc.split() if word.lower() not in nltk.corpus.stopwords.words('english')]\n",
    "\n",
    "sample_text = \"Six Seasons and a Movie!\"\n",
    "print(text_process(sample_text))"
   ]
  },
  {
   "cell_type": "code",
   "execution_count": 5,
   "metadata": {},
   "outputs": [],
   "source": [
    "processed_words = text_process(dislike.Text)"
   ]
  },
  {
   "cell_type": "code",
   "execution_count": 17,
   "metadata": {},
   "outputs": [
    {
     "data": {
      "image/png": "[encoded data removed]",
      "text/plain": [
       "<Figure size 576x432 with 1 Axes>"
      ]
     },
     "metadata": {},
     "output_type": "display_data"
    }
   ],
   "source": [
    "from wordcloud import WordCloud\n",
    "#wordcloud = WordCloud(width = 800, height = 600,\n",
    "#               background_color ='white',\n",
    "#                min_font_size = 10).generate(processed_words)\n",
    "wordcloud2 = WordCloud().generate(' '.join(processed_words))\n",
    "# plot the WordCloud image                       \n",
    "plt.figure(figsize = (8, 6), facecolor = None)\n",
    "plt.imshow(wordcloud2)\n",
    "plt.axis(\"off\")\n",
    "plt.tight_layout(pad = 0)\n",
    "\n",
    "plt.show()"
   ]
  }
 ],
 "metadata": {
  "kernelspec": {
   "display_name": "Python 3",
   "language": "python",
   "name": "python3"
  },
  "language_info": {
   "codemirror_mode": {
    "name": "ipython",
    "version": 3
   },
   "file_extension": ".py",
   "mimetype": "text/x-python",
   "name": "python",
   "nbconvert_exporter": "python",
   "pygments_lexer": "ipython3",
   "version": "3.5.2"
  }
 },
 "nbformat": 4,
 "nbformat_minor": 2
}
