{
 "cells": [
  {
   "cell_type": "markdown",
   "metadata": {},
   "source": [
    "# Predicting star ratings from Amazon Reviews\n",
    "\n",
    "This is my first-ever project in NLP, so I decided to not get ahead of myself and follow a couple of tutorials. Those tutorials are linked at the end.\n",
    "**Summary:** In this project, I will try to build a classifier to predict what rating out of 5 a user will give to a product on Amazon, based on his/her review.\n",
    "\n",
    "## The data\n",
    "The dataset chosen is a small collection of reviews of Amazon products, primarily Alexa. "
   ]
  },
  {
   "cell_type": "code",
   "execution_count": null,
   "metadata": {},
   "outputs": [],
   "source": []
  }
 ],
 "metadata": {
  "kernelspec": {
   "display_name": "Python 3",
   "language": "python",
   "name": "python3"
  },
  "language_info": {
   "codemirror_mode": {
    "name": "ipython",
    "version": 3
   },
   "file_extension": ".py",
   "mimetype": "text/x-python",
   "name": "python",
   "nbconvert_exporter": "python",
   "pygments_lexer": "ipython3",
   "version": "3.5.2"
  }
 },
 "nbformat": 4,
 "nbformat_minor": 2
}
